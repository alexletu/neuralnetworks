{
 "cells": [
  {
   "cell_type": "code",
   "execution_count": 1,
   "metadata": {},
   "outputs": [
    {
     "name": "stdout",
     "output_type": "stream",
     "text": [
      "[name: \"/device:CPU:0\"\n",
      "device_type: \"CPU\"\n",
      "memory_limit: 268435456\n",
      "locality {\n",
      "}\n",
      "incarnation: 15763950235712661015\n",
      ", name: \"/device:XLA_CPU:0\"\n",
      "device_type: \"XLA_CPU\"\n",
      "memory_limit: 17179869184\n",
      "locality {\n",
      "}\n",
      "incarnation: 9732777028264585277\n",
      "physical_device_desc: \"device: XLA_CPU device\"\n",
      ", name: \"/device:XLA_GPU:0\"\n",
      "device_type: \"XLA_GPU\"\n",
      "memory_limit: 17179869184\n",
      "locality {\n",
      "}\n",
      "incarnation: 10701310081376063892\n",
      "physical_device_desc: \"device: XLA_GPU device\"\n",
      ", name: \"/device:GPU:0\"\n",
      "device_type: \"GPU\"\n",
      "memory_limit: 11269973607\n",
      "locality {\n",
      "  bus_id: 1\n",
      "  links {\n",
      "  }\n",
      "}\n",
      "incarnation: 6711039648231144151\n",
      "physical_device_desc: \"device: 0, name: Tesla K80, pci bus id: 0000:00:04.0, compute capability: 3.7\"\n",
      "]\n"
     ]
    }
   ],
   "source": [
    "import tensorflow\n",
    "from tensorflow.python.client import device_lib \n",
    "print(device_lib.list_local_devices())\n",
    "%load_ext autoreload\n",
    "%autoreload 2"
   ]
  },
  {
   "cell_type": "markdown",
   "metadata": {},
   "source": [
    "# Introduction"
   ]
  },
  {
   "cell_type": "markdown",
   "metadata": {},
   "source": [
    "<center><h3>**Welcome to the Language modeling Notebook.**</h3></center>\n",
    "\n",
    "In this assignment, you are going to train a neural network to **generate news headlines**.\n",
    "To reduce computational needs, we have reduced it to headlines about technology, and a handful of Tech giants.\n",
    "In this assignment you will:\n",
    "- Learn to preprocess raw text so it can be fed into an LSTM.\n",
    "- Make use of the LSTM library of Tensorflow, to train a Language model to generate headlines\n",
    "- Use your network to generate headlines, and judge which headlines are likely or not\n",
    "\n",
    "\n"
   ]
  },
  {
   "cell_type": "markdown",
   "metadata": {},
   "source": [
    "**What is a language model?**\n",
    "\n",
    "Language modeling is the task of assigning a probability to sentences in a language. Besides assigning a probability to each sequence of words, the language models also assigns a probability for the likelihood of a given word (or a sequence of words) to follow a sequence of words.\n",
    "— Page 105, __[Neural Network Methods in Natural Language Processing](https://www.amazon.com/Language-Processing-Synthesis-Lectures-Technologies/dp/1627052984/)__, 2017.\n",
    "\n",
    "In terms of neural network, we are training a neural network to produce probabilities (classification) over a fixed vocabulary of words.\n",
    "Concretely, we are training a neural network to produce:\n",
    "$$ P ( w_{i+1} | w_1, w_2, w_3, ..., w_i), \\forall i \\in (1,n)$$\n",
    "\n",
    "** Why is language modeling important? **\n",
    "\n",
    "Language modeling is a core problem in NLP.\n",
    "\n",
    "Language models can either be used as a stand-alone to produce new text that matches the distribution of text the model is trained on, but can also be used at the front-end of a more sophisticated model to produce better results.\n",
    "\n",
    "Recently for example, the __[BERT](https://arxiv.org/abs/1810.04805)__ paper show-cased that pretraining a large neural network on a language modeling task can help improve state-of-the-art on many NLP tasks. \n",
    "\n",
    "How good can the generation of a Language model be?\n",
    "\n",
    "If you have not seen the latest post by OpenAI, you should read some of the samples they generated from their language model __[here](https://blog.openai.com/better-language-models/#sample1)__.\n",
    "Because of computational restrictions, we will not achieve as good text production, but the same algorithm is at the core. They just use more data and compute."
   ]
  },
  {
   "cell_type": "markdown",
   "metadata": {},
   "source": [
    "# Library imports"
   ]
  },
  {
   "cell_type": "markdown",
   "metadata": {},
   "source": [
    "Before starting, make sure you have all these libraries."
   ]
  },
  {
   "cell_type": "code",
   "execution_count": 2,
   "metadata": {},
   "outputs": [],
   "source": [
    "from segtok import tokenizer\n",
    "from collections import Counter\n",
    "import tensorflow as tf\n",
    "import numpy as np\n",
    "import json\n",
    "import os\n",
    "\n",
    "root_folder = \"\""
   ]
  },
  {
   "cell_type": "markdown",
   "metadata": {},
   "source": [
    "# Loading the datasets"
   ]
  },
  {
   "cell_type": "markdown",
   "metadata": {},
   "source": [
    "Make sure the dataset files are all in the `dataset` folder of the assignment.\n",
    "\n",
    " - If you are using this notebook locally: You should run the `download_data.sh` script.\n",
    " - If you are using the Colab version of the notebook, make sure that your Google Drive is mounted, and you verify from the file explorer in Colab that the files are viewable within `/content/gdrive/CS182_HW03/dataset/`\n",
    " \n"
   ]
  },
  {
   "cell_type": "code",
   "execution_count": 3,
   "metadata": {},
   "outputs": [
    {
     "name": "stdout",
     "output_type": "stream",
     "text": [
      "Number of training samples: 88568\n",
      "Number of validation samples: 946\n"
     ]
    }
   ],
   "source": [
    "# This cell loads the data for the model\n",
    "# Run this before working on loading any of the additional data\n",
    "\n",
    "with open(root_folder+\"dataset/headline_generation_dataset_processed.json\", \"r\") as f:\n",
    "    d_released = json.load(f)\n",
    "\n",
    "with open(root_folder+\"dataset/headline_generation_vocabulary.txt\", \"r\") as f:\n",
    "    vocabulary = f.read().split(\"\\n\")\n",
    "w2i = {w: i for i, w in enumerate(vocabulary)} # Word to index\n",
    "unkI, padI, start_index = w2i['UNK'], w2i['PAD'], w2i['<START>']\n",
    "\n",
    "vocab_size = len(vocabulary)\n",
    "input_length = len(d_released[0]['numerized']) # The length of the first element in the dataset, they are all of the same length\n",
    "d_train = [d for d in d_released if d['cut'] == 'training']\n",
    "d_valid = [d for d in d_released if d['cut'] == 'validation']\n",
    "\n",
    "print(\"Number of training samples:\",len(d_train))\n",
    "print(\"Number of validation samples:\",len(d_valid))"
   ]
  },
  {
   "cell_type": "markdown",
   "metadata": {},
   "source": [
    "Now that we have loaded the data, let's inspect one of the elements. Each sample in our dataset is has a `numerized` vector, that contains the preprocessed headline. This vector is what we will feed in to the neural network. The field `numerized` corresponds to this list of tokens. The already loaded dictionary `vocabulary` maps token lists to the actual string. Use these elements to recover `title` key of entry 1001 in the training dataset.\n",
    "\n",
    "**TODO**: Write the numerized2text function and inspect element 1001 in the training dataset (`entry = d_train[1001]`).\n",
    "\n"
   ]
  },
  {
   "cell_type": "code",
   "execution_count": 4,
   "metadata": {},
   "outputs": [
    {
     "name": "stdout",
     "output_type": "stream",
     "text": [
      "Reversing the numerized: microsoft donates cloud computing ' worth $ 1 bn '\n",
      "From the `title` entry: Microsoft donates cloud computing 'worth $1 bn'\n"
     ]
    }
   ],
   "source": [
    "def numerized2text(numerized):\n",
    "    \"\"\" Converts an integer sequence in the vocabulary into a string corresponding to the title.\n",
    "    \n",
    "        Arguments:\n",
    "            numerized: List[int]  -- The list of vocabulary indices corresponding to the string\n",
    "        Returns:\n",
    "            title: str -- The string corresponding to the numerized input, without padding.\n",
    "    \"\"\"\n",
    "    #####\n",
    "    # BEGIN YOUR CODE HERE \n",
    "    # Recover each word from the vocabulary in the list of indices in numerized, using the vocabulary variable\n",
    "    # Hint: Use the string.join() function to reconstruct a single string\n",
    "    #####\n",
    "    \n",
    "    converted_string = \" \".join([vocabulary[i] for i in numerized if i != padI])\n",
    "    \n",
    "    #####\n",
    "    # END YOUR CODE HERE\n",
    "    #####\n",
    "    \n",
    "    return converted_string\n",
    "\n",
    "entry = d_train[1001]\n",
    "print(\"Reversing the numerized: \"+ numerized2text(entry['numerized']))\n",
    "print(\"From the `title` entry: \"+ entry['title'])"
   ]
  },
  {
   "cell_type": "markdown",
   "metadata": {},
   "source": [
    "In language modeling, we train a model to produce the next word in the sequence given all previously generated words. This has, in practice, two steps:\n",
    "\n",
    "\n",
    "    1. Adding a special <START> token to the start of the sequence for the input. This \"shifts\" the input to the right by one. We call this the \"source\" sequence\n",
    "    2. Making the network predict the original, unshifted version (we call this the \"target\" sequence)\n",
    "\n",
    "    \n",
    "Let's take an example. Say we want to train the network on the sentence: \"The cat is great.\"\n",
    "The input to the network will be \"`<START>` The cat is great.\" The target will be: \"The cat is great\".\n",
    "    \n",
    "Therefore the first prediction is to select the word \"The\" given the `<START>` token.\n",
    "The second prediction is to produce the word \"cat\" given the two tokens \"`<START>` The\".\n",
    "At each step, the network learns to predict the next word, given all previous ones.\n",
    "    \n",
    "---"
   ]
  },
  {
   "cell_type": "markdown",
   "metadata": {},
   "source": [
    "Your next step is to write the build_batch function. Given a dataset, we select a random subset of samples, and will build the \"inputs\" and the \"targets\" of the batch, following the procedure we've described.\n",
    "\n",
    "**TODO**: write the build_batch function. We give you the structure, and you have to fill in where we have left things `None`.\n"
   ]
  },
  {
   "cell_type": "code",
   "execution_count": 5,
   "metadata": {},
   "outputs": [],
   "source": [
    "def build_batch(dataset, batch_size):\n",
    "    \"\"\" Builds a batch of source and target elements from the dataset.\n",
    "    \n",
    "        Arguments:\n",
    "            dataset: List[db_element] -- A list of dataset elements\n",
    "            batch_size: int -- The size of the batch that should be created\n",
    "        Returns:\n",
    "            batch_input: List[List[int]] -- List of source sequences\n",
    "            batch_target: List[List[int]] -- List of target sequences\n",
    "            batch_target_mask: List[List[int]] -- List of target batch masks\n",
    "    \"\"\"\n",
    "    \n",
    "    #####\n",
    "    # BEGIN YOUR CODE HERE \n",
    "    #####\n",
    "    \n",
    "    \n",
    "    # We get a list of indices we will choose from the dataset.\n",
    "    # The randint function uses a uniform distribution, giving equal probably to any entry\n",
    "    # for each batch\n",
    "    indices = list(np.random.randint(0, len(dataset), size=batch_size))\n",
    "    \n",
    "    # Recover what the entries for the batch are\n",
    "    batch = [dataset[i] for i in indices]\n",
    "    \n",
    "    # Get the raw numerized for this input, each element of the dataset has a 'numerized' key\n",
    "    batch_numerized = [elem['numerized'] for elem in batch]\n",
    "\n",
    "    # Create an array of start_index that will be concatenated at position 1 for the input.\n",
    "    # Should be of shape (batch_size, 1)\n",
    "    start_tokens = np.ones((batch_size, 1))\n",
    "\n",
    "    # Concatenate the start_tokens with the rest of the input\n",
    "    # The np.concatenate function should be useful\n",
    "    # The output should now be [batch_size, sequence_length+1]\n",
    "    batch_input = np.concatenate((start_tokens, batch_numerized), axis=1)\n",
    "\n",
    "    # Remove the last word from each element in the batch\n",
    "    # To restore the [batch_size, sequence_length] size\n",
    "    batch_input = batch_input[:,:-1]\n",
    "    \n",
    "    # The target should be the un-shifted numerized input\n",
    "    batch_target = batch_numerized\n",
    "\n",
    "    # The target-mask is a 0 or 1 filter to note which tokens are\n",
    "    # padding or not, to give the loss, so the model doesn't get rewarded for\n",
    "    # predicting PAD tokens.\n",
    "    batch_target_mask = np.array([a['mask'] for a in batch])\n",
    "\n",
    "    #####\n",
    "    # END YOUR CODE HERE \n",
    "    #####\n",
    "        \n",
    "    return batch_input, np.array(batch_target), batch_target_mask"
   ]
  },
  {
   "cell_type": "markdown",
   "metadata": {},
   "source": [
    "# Creating the language model"
   ]
  },
  {
   "cell_type": "markdown",
   "metadata": {},
   "source": [
    "Now that we've written the data pipelining, we are ready to write the Neural network.\n",
    "\n",
    "The steps to setting up a neural network to do Language modeling are:\n",
    "- Creating the placeholders for the model, where we can feed in our inputs and targets.\n",
    "- Creating an RNN of our choice, size, and with optional parameters\n",
    "- Using the RNN on our placeholder inputs.\n",
    "- Getting the output from the RNN, and projecting it into a vocabulary sized dimension, so that we can make word predictions.\n",
    "- Setting up the loss on the outputs so that the network learns to produce the correct words.\n",
    "- Finally, choosing an optimizer, and defining a training operation: using the optimizer to minimize the loss.\n",
    "\n",
    "We provide skeleton code for the model, you can fill in the `None` section. If you are unfamiliar with Tensorflow, we provide some idea of what functions to look for, you should use the Tensorflow online documentation.\n",
    "\n",
    "**TODO**: Replace the `None` variables with their respective code elements in the LanguageModel Class\n"
   ]
  },
  {
   "cell_type": "code",
   "execution_count": 6,
   "metadata": {},
   "outputs": [],
   "source": [
    "# Using a basic RNN/LSTM for Language modeling\n",
    "class LanguageModel():\n",
    "    def __init__(self, input_length, vocab_size, rnn_size, learning_rate=1e-4, dropout_rate=.8, clip_gradients=('global_norm', 5.0), num_layers=1):\n",
    "        \n",
    "        # Create the placeholders for the inputs:\n",
    "        # All three placeholders should be of size [None, input_length]\n",
    "        # Where None represents a variable batch_size, and input_length is the\n",
    "        # maximal length of a sequence of words, after being padded.\n",
    "\n",
    "        self.input_num = tf.placeholder(tf.int32, shape=[None, input_length])\n",
    "        self.targets = tf.placeholder(tf.int32, shape=[None,input_length])\n",
    "        self.targets_mask = tf.placeholder(tf.int32, shape=[None,input_length])\n",
    "\n",
    "        # Create an embedding variable of shape [vocab_size, rnn_size]\n",
    "        # That will map each word in our vocab into a vector of rnn_size size.\n",
    "        embedding = tf.get_variable(\"embedding\", shape=[vocab_size, rnn_size], dtype=tf.float32)\n",
    "        # Use the tensorflow embedding_lookup function\n",
    "        # To embed the input_num, using the embedding variable we've created\n",
    "        input_emb = tf.nn.embedding_lookup(embedding, self.input_num)\n",
    "\n",
    "        # Create a an RNN or LSTM cell of rnn_size size.\n",
    "        # Look into the tf.nn.rnn_cell documentation\n",
    "        # You can optionally use Tensorflow Add-ons such as the MultiRNNCell, or the DropoutWrapper\n",
    "        def wrap():\n",
    "            c1 = tf.nn.rnn_cell.LSTMCell(rnn_size, state_is_tuple=True)\n",
    "            c2 = tf.nn.rnn_cell.DropoutWrapper(c1, input_keep_prob=dropout_rate)\n",
    "            return c2\n",
    "        \n",
    "\n",
    "        lm_cell = tf.nn.rnn_cell.MultiRNNCell(cells=[wrap() for _ in range(num_layers)], state_is_tuple=True)      \n",
    "        \n",
    "        # Use the dynamic_rnn function of Tensorflow to run the embedded inputs\n",
    "        # using the lm_cell you've created, and obtain the outputs of the RNN cell.\n",
    "        # You have created a cell, which represents a single block (column) of the RNN.\n",
    "        # dynamic_rnn will \"copy\" the cell for each element in your sequence, runs the input you provide through the cell,\n",
    "        # and returns the outputs and the states of the cell.\n",
    "        \n",
    "        outputs, states = tf.nn.dynamic_rnn(lm_cell, input_emb, dtype=tf.float32)  \n",
    "    \n",
    "        # Use a dense layer to project the outputs of the RNN cell into the size of the\n",
    "        # vocabulary (vocab_size).\n",
    "        # output_logits should be of shape [None,input_length,vocab_size]\n",
    "        # You can look at the tf.layers.dense function\n",
    "        \n",
    "        self.output_logits = tf.layers.dense(outputs, vocab_size)\n",
    "        \n",
    "        # Setup the loss: using the sparse_softmax_cross_entropy.\n",
    "        # The logits are the output_logits we've computed.\n",
    "        # The targets are the gold labels we are trying to match\n",
    "        # Don't forget to use the targets_mask we have, so your loss is not off,\n",
    "        # And your model doesn't get rewarded for predicting PAD tokens\n",
    "        # You might have to cast the masks into float32. Look at the tf.cast function.\n",
    "        \n",
    "        self.loss = tf.losses.sparse_softmax_cross_entropy(labels=self.targets, logits=self.output_logits, weights=tf.cast(self.targets_mask,tf.float32))\n",
    "\n",
    "        # Setup an optimizer (SGD, RMSProp, Adam), you can find a list under tf.train.*\n",
    "        # And provide it with a start learning rate.\n",
    "\n",
    "        optimizer = tf.train.AdamOptimizer(learning_rate)\n",
    "\n",
    "        # We create a train_op that requires the optimizer we've created to minimize the\n",
    "        # loss we've defined.\n",
    "        # look for the optimizer.minimize function, define what should be miniminzed.\n",
    "        # You can provide it with the provide an optional global_step parameter as well that keeps of how many\n",
    "        # Optimizations steps have been run.\n",
    "        \n",
    "        self.global_step = tf.train.get_or_create_global_step()\n",
    "        if clip_gradients[0] == 'global_norm':\n",
    "            g = tf.gradients(self.loss, tf.trainable_variables(), colocate_gradients_with_ops=True)\n",
    "            g, _ = tf.clip_by_global_norm(g, clip_gradients[1])\n",
    "            self.train_op = optimizer.apply_gradients(zip(g, tf.trainable_variables()), global_step=self.global_step)           \n",
    "        else:\n",
    "            self.train_op = optimizer.minimize(self.loss, global_step=self.global_step)\n",
    "        self.saver = tf.train.Saver()"
   ]
  },
  {
   "cell_type": "markdown",
   "metadata": {},
   "source": [
    "Once you have created the Model class, we should instantiate the model. The line tf.reset_default_graph() resets the graph for the Jupyter notebook, so multiple models aren't floating around. If you have trouble with redefinition of variables, it may be worth re-running the cell below. "
   ]
  },
  {
   "cell_type": "code",
   "execution_count": 7,
   "metadata": {},
   "outputs": [
    {
     "name": "stdout",
     "output_type": "stream",
     "text": [
      "WARNING:tensorflow:From <ipython-input-6-557043e55ed1>:25: LSTMCell.__init__ (from tensorflow.python.ops.rnn_cell_impl) is deprecated and will be removed in a future version.\n",
      "Instructions for updating:\n",
      "This class is equivalent as tf.keras.layers.LSTMCell, and will be replaced by that in Tensorflow 2.0.\n",
      "WARNING:tensorflow:From <ipython-input-6-557043e55ed1>:30: MultiRNNCell.__init__ (from tensorflow.python.ops.rnn_cell_impl) is deprecated and will be removed in a future version.\n",
      "Instructions for updating:\n",
      "This class is equivalent as tf.keras.layers.StackedRNNCells, and will be replaced by that in Tensorflow 2.0.\n",
      "WARNING:tensorflow:From <ipython-input-6-557043e55ed1>:38: dynamic_rnn (from tensorflow.python.ops.rnn) is deprecated and will be removed in a future version.\n",
      "Instructions for updating:\n",
      "Please use `keras.layers.RNN(cell)`, which is equivalent to this API\n",
      "WARNING:tensorflow:From /opt/conda/lib/python3.7/site-packages/tensorflow_core/python/ops/rnn_cell_impl.py:958: Layer.add_variable (from tensorflow.python.keras.engine.base_layer) is deprecated and will be removed in a future version.\n",
      "Instructions for updating:\n",
      "Please use `layer.add_weight` method instead.\n",
      "WARNING:tensorflow:From /opt/conda/lib/python3.7/site-packages/tensorflow_core/python/ops/rnn_cell_impl.py:962: calling Zeros.__init__ (from tensorflow.python.ops.init_ops) with dtype is deprecated and will be removed in a future version.\n",
      "Instructions for updating:\n",
      "Call initializer instance with the dtype argument instead of passing it to the constructor\n",
      "WARNING:tensorflow:From <ipython-input-6-557043e55ed1>:45: dense (from tensorflow.python.layers.core) is deprecated and will be removed in a future version.\n",
      "Instructions for updating:\n",
      "Use keras.layers.Dense instead.\n",
      "WARNING:tensorflow:From /opt/conda/lib/python3.7/site-packages/tensorflow_core/python/layers/core.py:187: Layer.apply (from tensorflow.python.keras.engine.base_layer) is deprecated and will be removed in a future version.\n",
      "Instructions for updating:\n",
      "Please use `layer.__call__` method instead.\n",
      "WARNING:tensorflow:From /opt/conda/lib/python3.7/site-packages/tensorflow_core/python/ops/losses/losses_impl.py:121: where (from tensorflow.python.ops.array_ops) is deprecated and will be removed in a future version.\n",
      "Instructions for updating:\n",
      "Use tf.where in 2.0, which has the same broadcast rule as np.where\n"
     ]
    }
   ],
   "source": [
    "# We can create our model,\n",
    "# with parameters of our choosing.\n",
    "\n",
    "tf.reset_default_graph() # This is so that when you debug, you reset the graph each time you run this, in essence, cleaning the board\n",
    "model = LanguageModel(input_length=input_length, vocab_size=vocab_size, rnn_size=256, learning_rate=1e-3)"
   ]
  },
  {
   "cell_type": "markdown",
   "metadata": {},
   "source": [
    "# Training the model"
   ]
  },
  {
   "cell_type": "markdown",
   "metadata": {},
   "source": [
    "Your objective is to train the Language on the dataset you are provided to reach a **validation loss <= 5.50**\n",
    "\n",
    "**TODO**: Train your model so that it achieves a validation loss of <= 5.5. \n",
    "\n",
    "**Careful**: we will be testing this loss on an unreleased test set, so make sure to evaluate properly on a validation set and not overfit. You must save the model you want us to test under: models/final_language_model (the .index, .meta and .data files)\n",
    "\n",
    "**Advice**:\n",
    "- It should be possible to attain loss <= 5.50 with a 1-layer LSTM of size 256 or less.\n",
    "- You should not need more than 10 epochs to attain the threshold. More passes over the data can however give you a better model.\n",
    "- You can however try using:\n",
    "    - LSTM dropout (Tensorflow has a layer for that)\n",
    "    - Multi-layer RNN cell (Tensorflow has a layer for that)\n",
    "    - Change your optimizers, tune your learning_rate, use a learning rate schedule.\n",
    "    \n",
    "**Extra credit**:\n",
    "\n",
    "Get the loss below **validation loss <= 5.00** and get 5 points of extra-credit on this assignment. Get creative,\n",
    "\n",
    "but remember, what you do should work on our held-out test set to get the points."
   ]
  },
  {
   "cell_type": "code",
   "execution_count": 8,
   "metadata": {},
   "outputs": [
    {
     "name": "stdout",
     "output_type": "stream",
     "text": [
      "INFO:tensorflow:Restoring parameters from models/magic_model\n"
     ]
    }
   ],
   "source": [
    "# Skeleton code\n",
    "# You have to write your own training process to obtain a\n",
    "# Good performing model on the validation set, and save it.\n",
    "\n",
    "experiment = root_folder+\"models/magic_model\"\n",
    "\n",
    "with tf.Session() as sess:\n",
    "    # Here is how you initialize weights of the model according to their\n",
    "    # Initialization parameters.\n",
    "    sess.run(tf.global_variables_initializer())\n",
    "    \n",
    "    # Here is how you obtain a batch:\n",
    "    batch_size = 16\n",
    "    batch_input, batch_target, batch_target_mask = build_batch(d_train, batch_size)\n",
    "    \n",
    "    # Map the values to each tensor in a `feed_dict`\n",
    "    feed = {model.input_num: batch_input, model.targets: batch_target, model.targets_mask: batch_target_mask}\n",
    "\n",
    "    # Obtain a single value of the loss for that batch.\n",
    "    # !IMPORTANT! Don't forget to include the train_op to when using a batch from the training dataset\n",
    "    # (d_train)\n",
    "    # !MORE IMPORTANT! Don't use the train_op if you evaluate the loss on the validation set,\n",
    "    # Otherwise, your network will overfit on your validation dataset.\n",
    "    \n",
    "    step, train_loss, _ = sess.run([model.global_step, model.loss, model.train_op], feed_dict=feed)\n",
    "\n",
    "    # Here is how you save the model weights\n",
    "    model.saver.save(sess, experiment)\n",
    "    \n",
    "    # Here is how you restore the weights previously saved\n",
    "    model.saver.restore(sess, experiment)"
   ]
  },
  {
   "cell_type": "code",
   "execution_count": 9,
   "metadata": {},
   "outputs": [],
   "source": [
    "def build_whole_batch(dataset):\n",
    "    batch = dataset\n",
    "    batch_numerized = [elem['numerized'] for elem in batch]\n",
    "    start_tokens = np.ones((len(dataset), 1))\n",
    "    batch_input = np.concatenate((start_tokens, batch_numerized), axis=1)\n",
    "    batch_input = batch_input[:,:-1]\n",
    "    batch_target = batch_numerized\n",
    "    batch_target_mask = np.array([a['mask'] for a in batch])\n",
    "    \n",
    "        \n",
    "    return batch_input, np.array(batch_target), batch_target_mask\n",
    "\n",
    "class Dataset():    \n",
    "    def __init__(self, data):\n",
    "        self.inputs, self.targets, self.target_masks = build_whole_batch(data)\n",
    "        \n",
    "class DatasetBatchIter():\n",
    "    def __init__(self, dataset, batch_size, seed=None):\n",
    "        \n",
    "        self.dataset = dataset\n",
    "        self.batch_size = batch_size\n",
    "        \n",
    "        n = self.dataset.inputs.shape[0]\n",
    "\n",
    "        order = np.random.permutation(n)\n",
    "        self.batches = np.array_split(order, n // (batch_size - 1))\n",
    "        self.current_batch = 0\n",
    "    \n",
    "    def __iter__(self):\n",
    "        return self\n",
    "    \n",
    "    def __next__(self):\n",
    "        if self.current_batch >= len(self.batches):\n",
    "            raise StopIteration\n",
    "\n",
    "        idx = self.batches[self.current_batch] \n",
    "        self.current_batch += 1\n",
    "        return self.dataset.inputs[idx], self.dataset.targets[idx], self.dataset.target_masks[idx]\n",
    "\n",
    "train_dataset = Dataset(d_train)"
   ]
  },
  {
   "cell_type": "code",
   "execution_count": 10,
   "metadata": {},
   "outputs": [],
   "source": [
    "experiment = root_folder+\"models/language_model_1\"\n",
    "import time\n",
    "\n",
    "# Hyperparams\n",
    "EPOCHS = 10\n",
    "batch_size = 64\n",
    "seed=None\n",
    "save_epochs = 1\n",
    "print_batches = 100\n",
    "dropout_rate = .5\n",
    "learning_rate = 1e-3 #1e-3\n",
    "clip_gradients=('global_norm', 1.0)\n",
    "num_layers = 2\n",
    "\n",
    "tf.reset_default_graph() \n",
    "model = LanguageModel(input_length=input_length, vocab_size=vocab_size, rnn_size=256, learning_rate=learning_rate, dropout_rate=dropout_rate, clip_gradients=clip_gradients, num_layers=num_layers)"
   ]
  },
  {
   "cell_type": "code",
   "execution_count": 11,
   "metadata": {},
   "outputs": [
    {
     "name": "stdout",
     "output_type": "stream",
     "text": [
      "-------------------------Starting-------------------------\n",
      "Epoch 0 Loss 9.2103 - time taken: 0.6253 sec\n",
      "\n",
      "Epoch 1 - Batch 0 / 1384 - Loss 9.2103\n",
      "Epoch 1 - Batch 100 / 1384 - Loss 7.2654\n",
      "Epoch 1 - Batch 200 / 1384 - Loss 6.8905\n",
      "Epoch 1 - Batch 300 / 1384 - Loss 7.0318\n",
      "Epoch 1 - Batch 400 / 1384 - Loss 6.9288\n",
      "Epoch 1 - Batch 500 / 1384 - Loss 6.7191\n",
      "Epoch 1 - Batch 600 / 1384 - Loss 6.6718\n",
      "Epoch 1 - Batch 700 / 1384 - Loss 6.4655\n",
      "Epoch 1 - Batch 800 / 1384 - Loss 6.6335\n",
      "Epoch 1 - Batch 900 / 1384 - Loss 6.4222\n",
      "Epoch 1 - Batch 1000 / 1384 - Loss 6.2931\n",
      "Epoch 1 - Batch 1100 / 1384 - Loss 6.4172\n",
      "Epoch 1 - Batch 1200 / 1384 - Loss 6.4767\n",
      "Epoch 1 - Batch 1300 / 1384 - Loss 6.6164\n",
      "Epoch 1 - Batch 1400 / 1384 - Loss 6.2564\n",
      "Epoch 1 Loss 6.3619 - time taken: 89.1221 sec\n",
      "\n",
      "Epoch 2 - Batch 0 / 1384 - Loss 6.4042\n",
      "Epoch 2 - Batch 100 / 1384 - Loss 5.9971\n",
      "Epoch 2 - Batch 200 / 1384 - Loss 6.2634\n",
      "Epoch 2 - Batch 300 / 1384 - Loss 6.1401\n",
      "Epoch 2 - Batch 400 / 1384 - Loss 6.2214\n",
      "Epoch 2 - Batch 500 / 1384 - Loss 6.0278\n",
      "Epoch 2 - Batch 600 / 1384 - Loss 6.1885\n",
      "Epoch 2 - Batch 700 / 1384 - Loss 6.3123\n",
      "Epoch 2 - Batch 800 / 1384 - Loss 5.9332\n",
      "Epoch 2 - Batch 900 / 1384 - Loss 6.1855\n",
      "Epoch 2 - Batch 1000 / 1384 - Loss 6.1554\n",
      "Epoch 2 - Batch 1100 / 1384 - Loss 6.0720\n",
      "Epoch 2 - Batch 1200 / 1384 - Loss 6.1944\n",
      "Epoch 2 - Batch 1300 / 1384 - Loss 6.1286\n",
      "Epoch 2 - Batch 1400 / 1384 - Loss 5.9956\n",
      "Epoch 2 Loss 5.7986 - time taken: 88.4887 sec\n",
      "\n",
      "Epoch 3 - Batch 0 / 1384 - Loss 5.9718\n",
      "Epoch 3 - Batch 100 / 1384 - Loss 5.9253\n",
      "Epoch 3 - Batch 200 / 1384 - Loss 5.6752\n",
      "Epoch 3 - Batch 300 / 1384 - Loss 5.9246\n",
      "Epoch 3 - Batch 400 / 1384 - Loss 5.7264\n",
      "Epoch 3 - Batch 500 / 1384 - Loss 5.8042\n",
      "Epoch 3 - Batch 600 / 1384 - Loss 5.5733\n",
      "Epoch 3 - Batch 700 / 1384 - Loss 5.7413\n",
      "Epoch 3 - Batch 800 / 1384 - Loss 5.8732\n",
      "Epoch 3 - Batch 900 / 1384 - Loss 5.6560\n",
      "Epoch 3 - Batch 1000 / 1384 - Loss 5.7157\n",
      "Epoch 3 - Batch 1100 / 1384 - Loss 5.8645\n",
      "Epoch 3 - Batch 1200 / 1384 - Loss 5.8095\n",
      "Epoch 3 - Batch 1300 / 1384 - Loss 5.7584\n",
      "Epoch 3 - Batch 1400 / 1384 - Loss 5.7615\n",
      "Epoch 3 Loss 5.7797 - time taken: 88.4888 sec\n",
      "\n",
      "Epoch 4 - Batch 0 / 1384 - Loss 5.4927\n",
      "Epoch 4 - Batch 100 / 1384 - Loss 5.4465\n",
      "Epoch 4 - Batch 200 / 1384 - Loss 5.6101\n",
      "Epoch 4 - Batch 300 / 1384 - Loss 5.7330\n",
      "Epoch 4 - Batch 400 / 1384 - Loss 5.6178\n",
      "Epoch 4 - Batch 500 / 1384 - Loss 5.4752\n",
      "Epoch 4 - Batch 600 / 1384 - Loss 5.5892\n",
      "Epoch 4 - Batch 700 / 1384 - Loss 5.4613\n",
      "Epoch 4 - Batch 800 / 1384 - Loss 5.7020\n",
      "Epoch 4 - Batch 900 / 1384 - Loss 5.5281\n",
      "Epoch 4 - Batch 1000 / 1384 - Loss 5.5847\n",
      "Epoch 4 - Batch 1100 / 1384 - Loss 5.4168\n",
      "Epoch 4 - Batch 1200 / 1384 - Loss 5.6499\n",
      "Epoch 4 - Batch 1300 / 1384 - Loss 5.5050\n",
      "Epoch 4 - Batch 1400 / 1384 - Loss 5.5787\n",
      "Epoch 4 Loss 5.2497 - time taken: 88.3829 sec\n",
      "\n",
      "Epoch 5 - Batch 0 / 1384 - Loss 5.4529\n",
      "Epoch 5 - Batch 100 / 1384 - Loss 5.3526\n",
      "Epoch 5 - Batch 200 / 1384 - Loss 5.3764\n",
      "Epoch 5 - Batch 300 / 1384 - Loss 5.3000\n",
      "Epoch 5 - Batch 400 / 1384 - Loss 5.4634\n",
      "Epoch 5 - Batch 500 / 1384 - Loss 5.4810\n",
      "Epoch 5 - Batch 600 / 1384 - Loss 5.2381\n",
      "Epoch 5 - Batch 700 / 1384 - Loss 5.4084\n",
      "Epoch 5 - Batch 800 / 1384 - Loss 5.6623\n",
      "Epoch 5 - Batch 900 / 1384 - Loss 5.2390\n",
      "Epoch 5 - Batch 1000 / 1384 - Loss 5.4354\n",
      "Epoch 5 - Batch 1100 / 1384 - Loss 5.4045\n",
      "Epoch 5 - Batch 1200 / 1384 - Loss 5.2783\n",
      "Epoch 5 - Batch 1300 / 1384 - Loss 5.1340\n",
      "Epoch 5 - Batch 1400 / 1384 - Loss 5.4322\n",
      "Epoch 5 Loss 5.2761 - time taken: 88.3157 sec\n",
      "\n",
      "Epoch 6 - Batch 0 / 1384 - Loss 5.2943\n",
      "Epoch 6 - Batch 100 / 1384 - Loss 5.4508\n",
      "Epoch 6 - Batch 200 / 1384 - Loss 5.2845\n",
      "Epoch 6 - Batch 300 / 1384 - Loss 5.2881\n",
      "Epoch 6 - Batch 400 / 1384 - Loss 5.3230\n",
      "Epoch 6 - Batch 500 / 1384 - Loss 5.2377\n",
      "Epoch 6 - Batch 600 / 1384 - Loss 5.1983\n",
      "Epoch 6 - Batch 700 / 1384 - Loss 5.3107\n",
      "Epoch 6 - Batch 800 / 1384 - Loss 5.3551\n",
      "Epoch 6 - Batch 900 / 1384 - Loss 5.2246\n",
      "Epoch 6 - Batch 1000 / 1384 - Loss 5.2192\n",
      "Epoch 6 - Batch 1100 / 1384 - Loss 5.2890\n",
      "Epoch 6 - Batch 1200 / 1384 - Loss 5.1696\n",
      "Epoch 6 - Batch 1300 / 1384 - Loss 5.1506\n",
      "Epoch 6 - Batch 1400 / 1384 - Loss 5.2438\n",
      "Epoch 6 Loss 5.3784 - time taken: 88.3563 sec\n",
      "\n",
      "Epoch 7 - Batch 0 / 1384 - Loss 5.3249\n",
      "Epoch 7 - Batch 100 / 1384 - Loss 5.2315\n",
      "Epoch 7 - Batch 200 / 1384 - Loss 5.0249\n",
      "Epoch 7 - Batch 300 / 1384 - Loss 5.2547\n",
      "Epoch 7 - Batch 400 / 1384 - Loss 5.1071\n",
      "Epoch 7 - Batch 500 / 1384 - Loss 5.2092\n",
      "Epoch 7 - Batch 600 / 1384 - Loss 5.2479\n",
      "Epoch 7 - Batch 700 / 1384 - Loss 5.1761\n",
      "Epoch 7 - Batch 800 / 1384 - Loss 5.1129\n",
      "Epoch 7 - Batch 900 / 1384 - Loss 5.0308\n",
      "Epoch 7 - Batch 1000 / 1384 - Loss 5.0728\n",
      "Epoch 7 - Batch 1100 / 1384 - Loss 5.1406\n",
      "Epoch 7 - Batch 1200 / 1384 - Loss 5.5365\n",
      "Epoch 7 - Batch 1300 / 1384 - Loss 5.0968\n",
      "Epoch 7 - Batch 1400 / 1384 - Loss 4.9175\n",
      "Epoch 7 Loss 5.1740 - time taken: 88.3552 sec\n",
      "\n",
      "Epoch 8 - Batch 0 / 1384 - Loss 5.2014\n",
      "Epoch 8 - Batch 100 / 1384 - Loss 4.9713\n",
      "Epoch 8 - Batch 200 / 1384 - Loss 5.0947\n",
      "Epoch 8 - Batch 300 / 1384 - Loss 5.1178\n",
      "Epoch 8 - Batch 400 / 1384 - Loss 4.8531\n",
      "Epoch 8 - Batch 500 / 1384 - Loss 5.0627\n",
      "Epoch 8 - Batch 600 / 1384 - Loss 5.3659\n",
      "Epoch 8 - Batch 700 / 1384 - Loss 5.1185\n",
      "Epoch 8 - Batch 800 / 1384 - Loss 5.1910\n",
      "Epoch 8 - Batch 900 / 1384 - Loss 4.8094\n",
      "Epoch 8 - Batch 1000 / 1384 - Loss 5.2743\n",
      "Epoch 8 - Batch 1100 / 1384 - Loss 5.2491\n",
      "Epoch 8 - Batch 1200 / 1384 - Loss 5.2293\n",
      "Epoch 8 - Batch 1300 / 1384 - Loss 5.3476\n",
      "Epoch 8 - Batch 1400 / 1384 - Loss 5.0846\n",
      "Epoch 8 Loss 5.1046 - time taken: 88.3261 sec\n",
      "\n",
      "Epoch 9 - Batch 0 / 1384 - Loss 4.9481\n",
      "Epoch 9 - Batch 100 / 1384 - Loss 4.9872\n",
      "Epoch 9 - Batch 200 / 1384 - Loss 4.8091\n",
      "Epoch 9 - Batch 300 / 1384 - Loss 5.0221\n",
      "Epoch 9 - Batch 400 / 1384 - Loss 4.7814\n",
      "Epoch 9 - Batch 500 / 1384 - Loss 4.8457\n",
      "Epoch 9 - Batch 600 / 1384 - Loss 5.0891\n",
      "Epoch 9 - Batch 700 / 1384 - Loss 4.9156\n",
      "Epoch 9 - Batch 800 / 1384 - Loss 4.9977\n",
      "Epoch 9 - Batch 900 / 1384 - Loss 5.0709\n",
      "Epoch 9 - Batch 1000 / 1384 - Loss 4.9810\n",
      "Epoch 9 - Batch 1100 / 1384 - Loss 5.1745\n",
      "Epoch 9 - Batch 1200 / 1384 - Loss 5.0473\n",
      "Epoch 9 - Batch 1300 / 1384 - Loss 4.9297\n",
      "Epoch 9 - Batch 1400 / 1384 - Loss 4.9920\n",
      "Epoch 9 Loss 5.1512 - time taken: 88.3315 sec\n",
      "\n",
      "Epoch 10 - Batch 0 / 1384 - Loss 4.9186\n",
      "Epoch 10 - Batch 100 / 1384 - Loss 4.8767\n",
      "Epoch 10 - Batch 200 / 1384 - Loss 4.7854\n",
      "Epoch 10 - Batch 300 / 1384 - Loss 4.8824\n",
      "Epoch 10 - Batch 400 / 1384 - Loss 5.1276\n",
      "Epoch 10 - Batch 500 / 1384 - Loss 5.0635\n",
      "Epoch 10 - Batch 600 / 1384 - Loss 5.0274\n",
      "Epoch 10 - Batch 700 / 1384 - Loss 5.0990\n",
      "Epoch 10 - Batch 800 / 1384 - Loss 4.8520\n",
      "Epoch 10 - Batch 900 / 1384 - Loss 4.8587\n",
      "Epoch 10 - Batch 1000 / 1384 - Loss 4.9313\n",
      "Epoch 10 - Batch 1100 / 1384 - Loss 5.1565\n",
      "Epoch 10 - Batch 1200 / 1384 - Loss 5.1356\n",
      "Epoch 10 - Batch 1300 / 1384 - Loss 4.9127\n",
      "Epoch 10 - Batch 1400 / 1384 - Loss 4.6587\n",
      "Epoch 10 Loss 5.0523 - time taken: 88.4141 sec\n",
      "\n",
      "---------------------------Done---------------------------\n"
     ]
    }
   ],
   "source": [
    "total_batches = len(d_train) // batch_size + 1\n",
    "print(\"-------------------------Starting-------------------------\")\n",
    "\n",
    "with tf.Session() as sess:\n",
    "    sess.run(tf.global_variables_initializer())\n",
    "    for epoch in range(EPOCHS):\n",
    "        start = time.time()\n",
    "        scrambled = DatasetBatchIter(train_dataset, batch_size, seed)\n",
    "        for (batch_n, (batch_input, batch_target, batch_target_mask)) in enumerate(scrambled):\n",
    "            \n",
    "            feed = {model.input_num: batch_input, model.targets: batch_target, model.targets_mask: batch_target_mask}\n",
    "            step, loss, _ = sess.run([model.global_step, model.loss, model.train_op], feed_dict=feed)\n",
    "\n",
    "            if save_epochs > 0 and epoch == 0 and batch_n == 0:\n",
    "                print ('Epoch {} Loss {:.4f} - time taken: {:.4f} sec\\n'.format(epoch, loss, time.time() - start))\n",
    "                \n",
    "            if print_batches > 0 and batch_n % print_batches == 0:\n",
    "                template = 'Epoch {} - Batch {} / {} - Loss {:.4f}'\n",
    "                print(template.format(epoch+1, batch_n, total_batches, loss))\n",
    "\n",
    "        # saving (checkpoint) the model every save_epochs epochs\n",
    "        if (epoch + 1) % save_epochs == 0:\n",
    "            model.saver.save(sess, experiment)\n",
    "\n",
    "        print ('Epoch {} Loss {:.4f} - time taken: {:.4f} sec\\n'.format(epoch+1, loss, time.time() - start))\n",
    "    model.saver.save(sess, experiment)\n",
    "    \n",
    "print(\"---------------------------Done---------------------------\")"
   ]
  },
  {
   "cell_type": "markdown",
   "metadata": {},
   "source": [
    "# Using the language model"
   ]
  },
  {
   "cell_type": "markdown",
   "metadata": {},
   "source": [
    "Congratulations, you have now trained a language model! We can now use it to evaluate likely news headlines, as well as generate our very own headlines.\n",
    "\n",
    "**TODO**: Complete the three parts below, using the model you have trained."
   ]
  },
  {
   "cell_type": "markdown",
   "metadata": {},
   "source": [
    "## (1) Evaluation loss\n",
    "\n",
    "To evaluate the language model, we evaluate its loss (ability to predict) on unseen data that is reserved for evaluation.\n",
    "Your first evaluation is to load the model you trained, and obtain a test loss."
   ]
  },
  {
   "cell_type": "code",
   "execution_count": 12,
   "metadata": {},
   "outputs": [],
   "source": [
    "# Your best performing model should go here.\n",
    "model_file = root_folder+\"models/language_model_1\""
   ]
  },
  {
   "cell_type": "code",
   "execution_count": 13,
   "metadata": {},
   "outputs": [
    {
     "name": "stdout",
     "output_type": "stream",
     "text": [
      "INFO:tensorflow:Restoring parameters from models/language_model_1\n",
      "Evaluation set loss: [5.366944]\n"
     ]
    }
   ],
   "source": [
    "# We will evaluate your model in the model_file above\n",
    "# In a very similar way as the code below.\n",
    "# Make sure your validation loss is befow the threshold we specified\n",
    "# and that you didn't train using the validation set, as you would\n",
    "# get penalized.\n",
    "\n",
    "with tf.Session() as sess:\n",
    "    model.saver.restore(sess, model_file)\n",
    "    eval_input, eval_target, eval_target_mask = build_batch(d_valid, 500)\n",
    "    feed = {model.input_num: eval_input, model.targets: eval_target, model.targets_mask: eval_target_mask}\n",
    "    eval_loss = sess.run([model.loss], feed_dict=feed)\n",
    "    print(\"Evaluation set loss:\", eval_loss)"
   ]
  },
  {
   "cell_type": "markdown",
   "metadata": {},
   "source": [
    "## (2) Evaluation of likelihood of data\n",
    "\n",
    "One use of a language model is to see what data is more likely to have originated from the training data. Because we have trained our model on news headlines, we can see which of these headlines is more likely:\n",
    "\n",
    "``Apple to release another iPhone in September``\n",
    "\n",
    "\n",
    " ``Apple and Samsung resolve all lawsuits amicably``\n",
    " \n",
    "**TODO**: Use the model to obtain the loss the neural network assigns to each sentence.\n",
    "Because the neural network assigns probability to the words appearing in a sequence, this loss can be used as a proxy to measure how likely the sentence is to have occurred in the dataset.\n",
    "Once you have the loss for each headline, write down which sentence was judged to be more likely, and explain why/if you think this is coherent.\n",
    "\n",
    "**Your answer:** The first one was more likely. Apple and samsung resolving all lawsuits seems unlikely since they are tech giants. Additionally, Apple usually releases their iPhones late in the year (sept-nov).\n"
   ]
  },
  {
   "cell_type": "code",
   "execution_count": 14,
   "metadata": {},
   "outputs": [
    {
     "name": "stdout",
     "output_type": "stream",
     "text": [
      "INFO:tensorflow:Restoring parameters from models/language_model_1\n",
      "----------------------------------------\n",
      "Headline: apple to release another iphone in september\n",
      "Loss of the headline: [4.114306]\n",
      "----------------------------------------\n",
      "Headline: apple and samsung resolve all lawsuits amicably\n",
      "Loss of the headline: [5.4995866]\n"
     ]
    }
   ],
   "source": [
    "def numerize_sequence(tokenized):\n",
    "    return [w2i.get(w, unkI) for w in tokenized]\n",
    "def pad_sequence(numerized, pad_index, to_length):\n",
    "    pad = numerized[:to_length]\n",
    "    padded = pad + [pad_index] * (to_length - len(pad))\n",
    "    mask = [w != pad_index for w in padded]\n",
    "    return padded, mask\n",
    "\n",
    "# headline1 = \"Apple to release new iPhone in July\"\n",
    "# headline2 = \"Apple and Samsung resolve all lawsuits\"\n",
    "headline1 = \"Apple to release another iPhone in September\"\n",
    "headline2 = \"Apple and Samsung resolve all lawsuits amicably\"\n",
    "\n",
    "headlines = [headline1, headline2]\n",
    "\n",
    "with tf.Session() as sess:\n",
    "    model.saver.restore(sess, model_file)\n",
    "\n",
    "    for headline in headlines:\n",
    "        headline = headline.lower() # Our LSTM is trained on lower-cased headlines\n",
    "    \n",
    "        # From the code in the Preprocessing section at the end of the notebook\n",
    "        # Find out how to tokenize the headline\n",
    "        tokenized = tokenizer.word_tokenizer(headline)\n",
    "        \n",
    "        # Find out how to numerize the tokenized headline\n",
    "        numerized = numerize_sequence(tokenized)\n",
    "    \n",
    "        # Learn how to pad and obtain the mask of the sequence.\n",
    "        padded, mask = pad_sequence(numerized, w2i['PAD'], input_length)\n",
    "        \n",
    "        # Obtain the loss of the sequence, and pring it\n",
    "        source = np.array([[w2i['<START>']] + padded])[:,:-1]\n",
    "        target = np.array([padded])\n",
    "        mask = np.array([mask])\n",
    "        \n",
    "        feed = {model.input_num: source, model.targets: target, model.targets_mask: mask}\n",
    "    \n",
    "        loss = sess.run([model.loss], feed_dict=feed)\n",
    "        print(\"----------------------------------------\")\n",
    "        print(\"Headline:\",headline)\n",
    "        print(\"Loss of the headline:\", loss)\n",
    "\n",
    "# Important check: one headline should be more likely (and have lower loss)\n",
    "# Than the other headline. You should know which headline should have lower loss."
   ]
  },
  {
   "cell_type": "markdown",
   "metadata": {},
   "source": [
    "## (3) Generation of headlines\n",
    "\n",
    "We can use our language model to generate text according to the distribution of our training data.\n",
    "The way generation works is the following:\n",
    "\n",
    "We seed the model with a beginning of sequence, and obtain the distribution for the next word.\n",
    "We select the most likely word (argmax) and add it to our sequence of words.\n",
    "Now our sequence is one word longer, and we can feed it in again as an input, for the network to produce the next sentence.\n",
    "We do this a fixed number of times (up to 20 words), and obtain automatically generated headlines!\n"
   ]
  },
  {
   "cell_type": "markdown",
   "metadata": {},
   "source": [
    "We have provided a few headline starters that should produce interesting generated headlines.\n",
    "\n",
    "**TODO:** Get creative and find at least 2 more headline_starters that produce interesting headlines."
   ]
  },
  {
   "cell_type": "code",
   "execution_count": 15,
   "metadata": {},
   "outputs": [
    {
     "name": "stdout",
     "output_type": "stream",
     "text": [
      "INFO:tensorflow:Restoring parameters from models/language_model_1\n",
      "===================\n",
      "Generating headline starting with: apple has released\n",
      "apple has released a new iphone app for the iphone x , but it's not a UNK UNK of\n",
      "===================\n",
      "Generating headline starting with: google has released\n",
      "google has released a UNK UNK of the UNK of the UNK of the rings' UNK UNK UNK UNK\n",
      "===================\n",
      "Generating headline starting with: amazon\n",
      "amazon , google , UNK , UNK : intellectual property : intellectual property case may be UNK by UNK\n",
      "===================\n",
      "Generating headline starting with: tesla to\n",
      "tesla to launch UNK UNK in amazon , google , UNK , UNK , UNK , UNK , UNK\n",
      "===================\n",
      "Generating headline starting with: Virtual\n",
      "virtual UNK apple watch is coming to the UNK of the UNK UNK UNK UNK UNK UNK UNK UNK\n",
      "===================\n",
      "Generating headline starting with: privacy concerns and leaks\n",
      "privacy concerns and leaks on facebook , google , twitter , others to testify in UNK UNK UNK UNK\n"
     ]
    }
   ],
   "source": [
    "with tf.Session() as sess:\n",
    "    model.saver.restore(sess, model_file)\n",
    "\n",
    "    # Here are some headline starters.\n",
    "    # They're all about tech companies, because\n",
    "    # That is what is in our dataset\n",
    "    headline_starters = [\"apple has released\", \"google has released\", \"amazon\", \"tesla to\"]\n",
    "    headline_starters += [\"Virtual\", \"privacy concerns and leaks\"]\n",
    "    \n",
    "    for headline_starter in headline_starters:\n",
    "        print(\"===================\")\n",
    "        print(\"Generating headline starting with: \"+headline_starter)\n",
    "\n",
    "        # Tokenize and numerize the headline. Put the numerized headline\n",
    "        # beginning in `current_build`\n",
    "        tokenized = tokenizer.word_tokenizer(headline_starter.lower())\n",
    "        current_build = [w2i['<START>']] + numerize_sequence(tokenized)\n",
    "        \n",
    "        while len(current_build) < input_length:\n",
    "            # Pad the current_build into a input_length vector.\n",
    "            # We do this so that it can be processed by our LanguageModel class\n",
    "            current_padded = current_build[:input_length] + [padI] * (input_length - len(current_build))\n",
    "            current_padded = np.array([current_padded])\n",
    "\n",
    "            # Obtain the logits for the current padded sequence\n",
    "            # This involves obtaining the output_logits from our model,\n",
    "            # and not the loss like we have done so far\n",
    "            feed = {model.input_num: current_padded}\n",
    "            logits = sess.run([model.output_logits], feed_dict=feed)\n",
    "            \n",
    "            # Obtain the row of logits that interest us, the logits for the last non-pad\n",
    "            # inputs\n",
    "            last_logits = logits[0][0][len(current_build) - 1]\n",
    "\n",
    "#             print(tf.nn.softmax(tf.squeeze(logits[0])))\n",
    "#             print(last_logits)\n",
    "#             print(last_logits[len(current_build) - 1].eval())\n",
    "            # Find the highest scoring word in the last_logits\n",
    "            # array. The np.argmax function should be useful.\n",
    "            # Append this word to our current build\n",
    "            current_build.append(np.argmax(last_logits))\n",
    "        \n",
    "        # Go from the current_build of word_indices\n",
    "        # To the headline (string) produced. This should involve\n",
    "        # the vocabulary, and a string merger.\n",
    "        produced_sentence = numerized2text(current_build[1:])\n",
    "        print(produced_sentence)"
   ]
  },
  {
   "cell_type": "markdown",
   "metadata": {},
   "source": [
    "## All done\n",
    "\n",
    "You are done with the first part of the HW.\n",
    "\n",
    "Next notebook deals with Summarization of text!\n"
   ]
  },
  {
   "cell_type": "markdown",
   "metadata": {
    "heading_collapsed": true
   },
   "source": [
    "# Preprocessing (read only)\n"
   ]
  },
  {
   "cell_type": "markdown",
   "metadata": {
    "hidden": true
   },
   "source": [
    "**You can skip this section, however you may find these functions useful later in the assignment**\n",
    "\n",
    "We have provided this code so you see how the dataset was generated. You will have to come back some of these functions later in the assignment, so feel free to read through, to get familiar."
   ]
  },
  {
   "cell_type": "code",
   "execution_count": 16,
   "metadata": {
    "hidden": true
   },
   "outputs": [],
   "source": [
    "def numerize_sequence(tokenized):\n",
    "    return [w2i.get(w, unkI) for w in tokenized]\n",
    "def pad_sequence(numerized, pad_index, to_length):\n",
    "    pad = numerized[:to_length]\n",
    "    padded = pad + [pad_index] * (to_length - len(pad))\n",
    "    mask = [w != pad_index for w in padded]\n",
    "    return padded, mask"
   ]
  },
  {
   "cell_type": "code",
   "execution_count": 17,
   "metadata": {
    "hidden": true
   },
   "outputs": [
    {
     "ename": "NameError",
     "evalue": "name 'dataset' is not defined",
     "output_type": "error",
     "traceback": [
      "\u001b[0;31m---------------------------------------------------------------------------\u001b[0m",
      "\u001b[0;31mNameError\u001b[0m                                 Traceback (most recent call last)",
      "\u001b[0;32m<ipython-input-17-6500b8b753b6>\u001b[0m in \u001b[0;36m<module>\u001b[0;34m\u001b[0m\n\u001b[1;32m      4\u001b[0m \u001b[0;31m# In the same way, in the evaluation section\u001b[0m\u001b[0;34m\u001b[0m\u001b[0;34m\u001b[0m\u001b[0;34m\u001b[0m\u001b[0m\n\u001b[1;32m      5\u001b[0m \u001b[0;34m\u001b[0m\u001b[0m\n\u001b[0;32m----> 6\u001b[0;31m \u001b[0;32mfor\u001b[0m \u001b[0ma\u001b[0m \u001b[0;32min\u001b[0m \u001b[0mdataset\u001b[0m\u001b[0;34m:\u001b[0m\u001b[0;34m\u001b[0m\u001b[0;34m\u001b[0m\u001b[0m\n\u001b[0m\u001b[1;32m      7\u001b[0m     \u001b[0ma\u001b[0m\u001b[0;34m[\u001b[0m\u001b[0;34m'tokenized'\u001b[0m\u001b[0;34m]\u001b[0m \u001b[0;34m=\u001b[0m \u001b[0mtokenizer\u001b[0m\u001b[0;34m.\u001b[0m\u001b[0mword_tokenizer\u001b[0m\u001b[0;34m(\u001b[0m\u001b[0ma\u001b[0m\u001b[0;34m[\u001b[0m\u001b[0;34m'title'\u001b[0m\u001b[0;34m]\u001b[0m\u001b[0;34m.\u001b[0m\u001b[0mlower\u001b[0m\u001b[0;34m(\u001b[0m\u001b[0;34m)\u001b[0m\u001b[0;34m)\u001b[0m\u001b[0;34m\u001b[0m\u001b[0;34m\u001b[0m\u001b[0m\n",
      "\u001b[0;31mNameError\u001b[0m: name 'dataset' is not defined"
     ]
    }
   ],
   "source": [
    "# You do not need to run this\n",
    "# This is to show you how the dataset was created\n",
    "# You should read to understand, so you can preprocess text\n",
    "# In the same way, in the evaluation section\n",
    "\n",
    "for a in dataset:\n",
    "    a['tokenized'] = tokenizer.word_tokenizer(a['title'].lower())"
   ]
  },
  {
   "cell_type": "code",
   "execution_count": null,
   "metadata": {
    "hidden": true,
    "scrolled": true
   },
   "outputs": [],
   "source": [
    "# You do not need to run this\n",
    "# This is to show you how the dataset was created\n",
    "# You should read to understand, so you can preprocess text\n",
    "# In the same way, in the evaluation section\n",
    "\n",
    "word_counts = Counter()\n",
    "for a in dataset:\n",
    "    word_counts.update(a['tokenized'])\n",
    "\n",
    "print(word_counts.most_common(30))"
   ]
  },
  {
   "cell_type": "code",
   "execution_count": null,
   "metadata": {
    "hidden": true
   },
   "outputs": [],
   "source": [
    "# You do not need to run this\n",
    "# This is to show you how the dataset was created\n",
    "# You should read to understand, so you can preprocess text\n",
    "# In the same way, in the evaluation section\n",
    "\n",
    "# Creating the vocab\n",
    "vocab_size = 20000\n",
    "special_words = [\"<START>\", \"UNK\", \"PAD\"]\n",
    "vocabulary = special_words + [w for w, c in word_counts.most_common(vocab_size-len(special_words))]\n",
    "w2i = {w: i for i, w in enumerate(vocabulary)}\n",
    "\n",
    "# Numerizing and padding\n",
    "input_length = 20\n",
    "unkI, padI, startI = w2i['UNK'], w2i['PAD'], w2i['<START>']\n",
    "\n",
    "for a in dataset:\n",
    "    a['numerized'] = numerize_sequence(a['tokenized']) # Change words to IDs\n",
    "    a['numerized'], a['mask'] = pad_sequence(a['numerized'], padI, input_length) # Append appropriate PAD tokens\n",
    "    \n",
    "# Compute fraction of words that are UNK:\n",
    "word_counters = Counter([w for a in dataset for w in a['input'] if w != padI])\n",
    "\n",
    "print(\"Fraction of UNK words:\", float(word_counters[unkI]) / sum(word_counters.values()))"
   ]
  },
  {
   "cell_type": "code",
   "execution_count": null,
   "metadata": {
    "hidden": true
   },
   "outputs": [],
   "source": [
    "# You do not need to run this\n",
    "# This is to show you how the dataset was created\n",
    "# You should read to understand, so you can preprocess text\n",
    "# In the same way, in the evaluation section\n",
    "\n",
    "d_released_processed   = [d for d in dataset if d['cut'] != 'testing']\n",
    "d_unreleased_processed = [d for d in dataset if d['cut'] == 'testing']\n",
    "\n",
    "with open(\"dataset/headline_generation_dataset_processed.json\", \"w\") as f:\n",
    "    json.dump(d_released_processed, f)\n",
    "\n",
    "# This file is purposefully left out of the assignment, we will use it to evaluate your model.\n",
    "with open(\"dataset/headline_generation_dataset_unreleased_processed.json\", \"w\") as f:\n",
    "    json.dump(d_unreleased_processed, f)\n",
    "    \n",
    "with open(\"dataset/headline_generation_vocabulary.txt\", \"w\") as f:\n",
    "    f.write(\"\\n\".join(vocabulary).encode('utf8'))"
   ]
  }
 ],
 "metadata": {
  "anaconda-cloud": {},
  "kernelspec": {
   "display_name": "Python 3",
   "language": "python",
   "name": "python3"
  },
  "language_info": {
   "codemirror_mode": {
    "name": "ipython",
    "version": 3
   },
   "file_extension": ".py",
   "mimetype": "text/x-python",
   "name": "python",
   "nbconvert_exporter": "python",
   "pygments_lexer": "ipython3",
   "version": "3.7.6"
  },
  "varInspector": {
   "cols": {
    "lenName": 16,
    "lenType": 16,
    "lenVar": 40
   },
   "kernels_config": {
    "python": {
     "delete_cmd_postfix": "",
     "delete_cmd_prefix": "del ",
     "library": "var_list.py",
     "varRefreshCmd": "print(var_dic_list())"
    },
    "r": {
     "delete_cmd_postfix": ") ",
     "delete_cmd_prefix": "rm(",
     "library": "var_list.r",
     "varRefreshCmd": "cat(var_dic_list()) "
    }
   },
   "types_to_exclude": [
    "module",
    "function",
    "builtin_function_or_method",
    "instance",
    "_Feature"
   ],
   "window_display": false
  }
 },
 "nbformat": 4,
 "nbformat_minor": 4
}
